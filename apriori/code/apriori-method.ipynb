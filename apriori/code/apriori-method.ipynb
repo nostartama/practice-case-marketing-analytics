{
 "cells": [
  {
   "cell_type": "markdown",
   "metadata": {},
   "source": [
    "# Market Basket Analysis"
   ]
  },
  {
   "cell_type": "markdown",
   "metadata": {},
   "source": [
    "Market Basket Analysis is one of the key techniques used by large retailers to uncover associations between items. It works by looking for combinations of items that occur together frequently in transactions. To put it another way, it allows retailers to identify relationships between the items that people buy. <br>\n",
    "Association Rules are widely used to analyze retail basket or transaction data, and are intended to identify strong rules discovered in transaction data using measures of interestingness, based on the concept of strong rules. <br>\n",
    "\n",
    "[ref](http://https://towardsdatascience.com/a-gentle-introduction-on-market-basket-analysis-association-rules-fa4b986a40ce)"
   ]
  },
  {
   "cell_type": "markdown",
   "metadata": {},
   "source": [
    "* * *"
   ]
  },
  {
   "cell_type": "markdown",
   "metadata": {},
   "source": [
    "## Library "
   ]
  },
  {
   "cell_type": "markdown",
   "metadata": {},
   "source": [
    "What library I'am used"
   ]
  },
  {
   "cell_type": "code",
   "execution_count": 1,
   "metadata": {},
   "outputs": [],
   "source": [
    "import numpy as np\n",
    "import matplotlib.pyplot as plt\n",
    "import pandas as pd\n",
    "from apyori import apriori"
   ]
  },
  {
   "cell_type": "markdown",
   "metadata": {},
   "source": [
    "##  Read CSV"
   ]
  },
  {
   "cell_type": "markdown",
   "metadata": {},
   "source": [
    "Read data for dataset"
   ]
  },
  {
   "cell_type": "code",
   "execution_count": 10,
   "metadata": {},
   "outputs": [],
   "source": [
    "df = pd.read_csv('data/form.csv',delimiter=';')"
   ]
  },
  {
   "cell_type": "code",
   "execution_count": 11,
   "metadata": {},
   "outputs": [],
   "source": [
    "df.drop('Name',axis=1,inplace=True)"
   ]
  },
  {
   "cell_type": "code",
   "execution_count": 12,
   "metadata": {},
   "outputs": [
    {
     "data": {
      "text/plain": [
       "(24, 3)"
      ]
     },
     "execution_count": 12,
     "metadata": {},
     "output_type": "execute_result"
    }
   ],
   "source": [
    "df.shape"
   ]
  },
  {
   "cell_type": "markdown",
   "metadata": {},
   "source": [
    "## df.shape"
   ]
  },
  {
   "cell_type": "markdown",
   "metadata": {},
   "source": [
    "assign a row and column and then assign to 'records' variable. 'records' is use for association rules later. Library 'apriori' only accept list -> [] "
   ]
  },
  {
   "cell_type": "code",
   "execution_count": 13,
   "metadata": {},
   "outputs": [],
   "source": [
    "count_row = df.shape[0]\n",
    "count_col = df.shape[1]"
   ]
  },
  {
   "cell_type": "code",
   "execution_count": 14,
   "metadata": {},
   "outputs": [],
   "source": [
    "records = []\n",
    "for i in range(count_row):\n",
    "    records.append([str(df.values[i,j]) for j in range(count_col)])"
   ]
  },
  {
   "cell_type": "markdown",
   "metadata": {},
   "source": [
    "## Association Rules (Apriori)"
   ]
  },
  {
   "cell_type": "markdown",
   "metadata": {},
   "source": [
    "Association rule mining is a technique to identify underlying relations between different items. <br>\n",
    "\n",
    "[ref](https://stackabuse.com/association-rule-mining-via-apriori-algorithm-in-python/)"
   ]
  },
  {
   "cell_type": "code",
   "execution_count": 15,
   "metadata": {},
   "outputs": [],
   "source": [
    "association_rules = apriori(records, min_support=0.2, min_confidence=0.2, min_lift=1, min_length=2)\n",
    "association_results = list(association_rules)"
   ]
  },
  {
   "cell_type": "markdown",
   "metadata": {},
   "source": [
    "## See the result"
   ]
  },
  {
   "cell_type": "markdown",
   "metadata": {},
   "source": [
    "after using the apriori algorithm, we want to see what the apriori produces. Then i do a looping to print the results."
   ]
  },
  {
   "cell_type": "code",
   "execution_count": 16,
   "metadata": {},
   "outputs": [
    {
     "name": "stdout",
     "output_type": "stream",
     "text": [
      "Rule: Camera\n",
      "Support: 0.6666666666666666\n",
      "Confidence: 0.6666666666666666\n",
      "Lift: 1.0\n",
      "=====================================\n",
      "\n",
      "Rule: Guitar\n",
      "Support: 0.3333333333333333\n",
      "Confidence: 0.3333333333333333\n",
      "Lift: 1.0\n",
      "=====================================\n",
      "\n",
      "Rule: Music Pad\n",
      "Support: 0.2916666666666667\n",
      "Confidence: 0.2916666666666667\n",
      "Lift: 1.0\n",
      "=====================================\n",
      "\n",
      "Rule: Racket\n",
      "Support: 0.25\n",
      "Confidence: 0.25\n",
      "Lift: 1.0\n",
      "=====================================\n",
      "\n",
      "Rule: Soap\n",
      "Support: 0.20833333333333334\n",
      "Confidence: 0.20833333333333334\n",
      "Lift: 1.0\n",
      "=====================================\n",
      "\n",
      "Rule: Watch\n",
      "Support: 0.625\n",
      "Confidence: 0.625\n",
      "Lift: 1.0\n",
      "=====================================\n",
      "\n",
      "Rule: nan\n",
      "Support: 0.20833333333333334\n",
      "Confidence: 0.20833333333333334\n",
      "Lift: 1.0\n",
      "=====================================\n",
      "\n",
      "Rule: Camera -> Music Pad\n",
      "Support: 0.20833333333333334\n",
      "Confidence: 0.31250000000000006\n",
      "Lift: 1.0714285714285716\n",
      "=====================================\n",
      "\n",
      "Rule: Watch -> Camera\n",
      "Support: 0.4166666666666667\n",
      "Confidence: 0.6250000000000001\n",
      "Lift: 1.0000000000000002\n",
      "=====================================\n",
      "\n",
      "Rule: Watch -> Music Pad\n",
      "Support: 0.20833333333333334\n",
      "Confidence: 0.7142857142857143\n",
      "Lift: 1.1428571428571428\n",
      "=====================================\n",
      "\n"
     ]
    }
   ],
   "source": [
    "for item in association_results:\n",
    "\n",
    "    # first index of the inner list\n",
    "    # Contains base item and add item\n",
    "    pair = item[0] \n",
    "    items = [x for x in pair]\n",
    "    \n",
    "    if len(items) == 1:\n",
    "        print(\"Rule: \" + items[0])\n",
    "    elif len(items) == 2:\n",
    "        print(\"Rule: \" + items[0] + \" -> \" + items[1])\n",
    "    elif len(items) == 3:\n",
    "        print(\"Rule: \" + items[0] + \" -> \" + items[1] + \" -> \" + items[2])\n",
    "\n",
    "    #second index of the inner list\n",
    "    print(\"Support: \" + str(item[1]))\n",
    "\n",
    "    #third index of the list located at 0th\n",
    "    #of the third index of the inner list\n",
    "\n",
    "    print(\"Confidence: \" + str(item[2][0][2]))\n",
    "    print(\"Lift: \" + str(item[2][0][3]))\n",
    "    print(\"=====================================\")\n",
    "    print('')"
   ]
  },
  {
   "cell_type": "markdown",
   "metadata": {},
   "source": [
    "## Explanation from the result"
   ]
  },
  {
   "cell_type": "markdown",
   "metadata": {},
   "source": [
    "Top 7 are only one item, so we are only focusing on last 3. <br>"
   ]
  },
  {
   "cell_type": "markdown",
   "metadata": {},
   "source": [
    "Support is an indication of how frequently the itemset appears in the dataset. <br>\n",
    "Confidence is an indication of how often the rule has been found to be true. <br>\n",
    "Lift is the ratio of the observed support to that expected if X and Y were independent. <br>"
   ]
  },
  {
   "cell_type": "markdown",
   "metadata": {},
   "source": [
    "1.Rule: Music Pad -> Camera <br>\n",
    "Support: 0.20833333333333334 <br>\n",
    "Confidence: 0.31250000000000006 <br>\n",
    "Lift: 1.0714285714285716 <br>"
   ]
  },
  {
   "cell_type": "markdown",
   "metadata": {},
   "source": [
    "The cofidence are the lowest than 2 others, we can take interpretation that are the first rule is rarely found."
   ]
  },
  {
   "cell_type": "markdown",
   "metadata": {},
   "source": [
    "2.Rule: Watch -> Camera <br>\n",
    "Support: 0.4166666666666667 <br>\n",
    "Confidence: 0.6250000000000001 <br>\n",
    "Lift: 1.0000000000000002 <br>"
   ]
  },
  {
   "cell_type": "markdown",
   "metadata": {},
   "source": [
    "This rule have a good confidence and the highest support. The highest support means someone who buy watch, are also buy camera."
   ]
  },
  {
   "cell_type": "markdown",
   "metadata": {},
   "source": [
    "3.Rule: Watch -> Music Pad <br>\n",
    "Support: 0.20833333333333334 <br>\n",
    "Confidence: 0.7142857142857143 <br>\n",
    "Lift: 1.1428571428571428 <br>"
   ]
  },
  {
   "cell_type": "markdown",
   "metadata": {},
   "source": [
    "This rule have confidence the highest but the support is low. Thats mean the rule are the most we can find on the dataset. Every people who buy watch, we can offer music pad for him/her."
   ]
  }
 ],
 "metadata": {
  "kernelspec": {
   "display_name": "Python 3",
   "language": "python",
   "name": "python3"
  },
  "language_info": {
   "codemirror_mode": {
    "name": "ipython",
    "version": 3
   },
   "file_extension": ".py",
   "mimetype": "text/x-python",
   "name": "python",
   "nbconvert_exporter": "python",
   "pygments_lexer": "ipython3",
   "version": "3.6.9"
  }
 },
 "nbformat": 4,
 "nbformat_minor": 2
}
