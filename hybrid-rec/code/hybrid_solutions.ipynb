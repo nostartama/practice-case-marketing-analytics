{
  "nbformat": 4,
  "nbformat_minor": 0,
  "metadata": {
    "kernelspec": {
      "display_name": "Python 3",
      "language": "python",
      "name": "python3"
    },
    "language_info": {
      "codemirror_mode": {
        "name": "ipython",
        "version": 3
      },
      "file_extension": ".py",
      "mimetype": "text/x-python",
      "name": "python",
      "nbconvert_exporter": "python",
      "pygments_lexer": "ipython3",
      "version": "3.6.9"
    },
    "colab": {
      "name": "hybrid-solutions.ipynb",
      "provenance": []
    }
  },
  "cells": [
    {
      "cell_type": "markdown",
      "metadata": {
        "id": "_Agc6SEg_f8e",
        "colab_type": "text"
      },
      "source": [
        "[referensi 1](https://github.com/jkhlr/hybrid-recommender-system) <br>\n",
        "[referensi 2](https://en.wikipedia.org/wiki/Recommender_system#Hybrid_recommender_systems)"
      ]
    },
    {
      "cell_type": "markdown",
      "metadata": {
        "id": "bW49EupE_fvC",
        "colab_type": "text"
      },
      "source": [
        "After searching some hybrid(s) recommendation systems problem, i cannot find some good example to read. \n",
        "So i used `referensi1` to become my use case and i added some analysis to my github."
      ]
    },
    {
      "cell_type": "markdown",
      "metadata": {
        "id": "lzWMbYXa_tjK",
        "colab_type": "text"
      },
      "source": [
        "---"
      ]
    },
    {
      "cell_type": "markdown",
      "metadata": {
        "id": "NTFcKHr9ouGX",
        "colab_type": "text"
      },
      "source": [
        "# Hybrid Recommender Systems\n",
        "Most recommender systems now use a hybrid approach, combining collaborative filtering, content-based filtering, and other approaches. There is no reason why several different techniques of the same type could not be hybridized.<br>\n",
        "Hybrid approaches can be implemented in several ways: by making content-based and collaborative-based predictions separately and then combining them; by adding content-based capabilities to a collaborative-based approach (and vice versa); or by unifying the approaches into one model (see for a complete review of recommender systems).<br>\n",
        "Several studies that empirically compare the performance of the hybrid with the pure collaborative and content-based methods and demonstrated that the hybrid methods can provide more accurate recommendations than pure approaches. These methods can also be used to overcome some of the common problems in recommender systems such as cold start and the sparsity problem, as well as the knowledge engineering bottleneck in knowledge-based approaches. <br> \n",
        "Netflix is a good example of the use of hybrid recommender systems.The website makes recommendations by comparing the watching and searching habits of similar users (i.e., collaborative filtering) as well as by offering movies that share characteristics with films that a user has rated highly (content-based filtering). <br>"
      ]
    },
    {
      "cell_type": "code",
      "metadata": {
        "id": "PPrNXEU-pDAS",
        "colab_type": "code",
        "colab": {}
      },
      "source": [
        "#!pip install surprise"
      ],
      "execution_count": 0,
      "outputs": []
    },
    {
      "cell_type": "code",
      "metadata": {
        "id": "pBJ3ntrergTs",
        "colab_type": "code",
        "outputId": "cc0a7ac3-f593-42e3-da4d-668d00daef0f",
        "colab": {
          "base_uri": "https://localhost:8080/",
          "height": 34
        }
      },
      "source": [
        "from google.colab import drive\n",
        "drive.mount('/content/drive')"
      ],
      "execution_count": 51,
      "outputs": [
        {
          "output_type": "stream",
          "text": [
            "Drive already mounted at /content/drive; to attempt to forcibly remount, call drive.mount(\"/content/drive\", force_remount=True).\n"
          ],
          "name": "stdout"
        }
      ]
    },
    {
      "cell_type": "markdown",
      "metadata": {
        "id": "gjBFnSGBAPgG",
        "colab_type": "text"
      },
      "source": [
        "## Library\n",
        "Library that what i used. 'Surprise' is a Python scikit building and analyzing recommender systems that deal with explicit rating data. "
      ]
    },
    {
      "cell_type": "code",
      "metadata": {
        "id": "ckNqLwaMouGh",
        "colab_type": "code",
        "colab": {}
      },
      "source": [
        "import numpy as np\n",
        "import pandas as pd \n",
        "import surprise as sp"
      ],
      "execution_count": 0,
      "outputs": []
    },
    {
      "cell_type": "code",
      "metadata": {
        "id": "Q_cd_y7qwUjz",
        "colab_type": "code",
        "outputId": "da55f8f6-fff2-4599-a159-d582e84ff94a",
        "colab": {
          "base_uri": "https://localhost:8080/",
          "height": 649
        }
      },
      "source": [
        "parsed_data.head()"
      ],
      "execution_count": 53,
      "outputs": [
        {
          "output_type": "execute_result",
          "data": {
            "text/html": [
              "<div>\n",
              "<style scoped>\n",
              "    .dataframe tbody tr th:only-of-type {\n",
              "        vertical-align: middle;\n",
              "    }\n",
              "\n",
              "    .dataframe tbody tr th {\n",
              "        vertical-align: top;\n",
              "    }\n",
              "\n",
              "    .dataframe thead th {\n",
              "        text-align: right;\n",
              "    }\n",
              "</style>\n",
              "<table border=\"1\" class=\"dataframe\">\n",
              "  <thead>\n",
              "    <tr style=\"text-align: right;\">\n",
              "      <th></th>\n",
              "      <th>Unnamed: 0</th>\n",
              "      <th>country</th>\n",
              "      <th>description</th>\n",
              "      <th>designation</th>\n",
              "      <th>points</th>\n",
              "      <th>price</th>\n",
              "      <th>province</th>\n",
              "      <th>region_1</th>\n",
              "      <th>region_2</th>\n",
              "      <th>taster_name</th>\n",
              "      <th>taster_twitter_handle</th>\n",
              "      <th>title</th>\n",
              "      <th>variety</th>\n",
              "      <th>winery</th>\n",
              "    </tr>\n",
              "  </thead>\n",
              "  <tbody>\n",
              "    <tr>\n",
              "      <th>0</th>\n",
              "      <td>0</td>\n",
              "      <td>Italy</td>\n",
              "      <td>Aromas include tropical fruit, broom, brimston...</td>\n",
              "      <td>Vulkà Bianco</td>\n",
              "      <td>87</td>\n",
              "      <td>NaN</td>\n",
              "      <td>Sicily &amp; Sardinia</td>\n",
              "      <td>Etna</td>\n",
              "      <td>NaN</td>\n",
              "      <td>Kerin O’Keefe</td>\n",
              "      <td>@kerinokeefe</td>\n",
              "      <td>Nicosia 2013 Vulkà Bianco  (Etna)</td>\n",
              "      <td>White Blend</td>\n",
              "      <td>Nicosia</td>\n",
              "    </tr>\n",
              "    <tr>\n",
              "      <th>1</th>\n",
              "      <td>1</td>\n",
              "      <td>Portugal</td>\n",
              "      <td>This is ripe and fruity, a wine that is smooth...</td>\n",
              "      <td>Avidagos</td>\n",
              "      <td>87</td>\n",
              "      <td>15.0</td>\n",
              "      <td>Douro</td>\n",
              "      <td>NaN</td>\n",
              "      <td>NaN</td>\n",
              "      <td>Roger Voss</td>\n",
              "      <td>@vossroger</td>\n",
              "      <td>Quinta dos Avidagos 2011 Avidagos Red (Douro)</td>\n",
              "      <td>Portuguese Red</td>\n",
              "      <td>Quinta dos Avidagos</td>\n",
              "    </tr>\n",
              "    <tr>\n",
              "      <th>2</th>\n",
              "      <td>2</td>\n",
              "      <td>US</td>\n",
              "      <td>Tart and snappy, the flavors of lime flesh and...</td>\n",
              "      <td>NaN</td>\n",
              "      <td>87</td>\n",
              "      <td>14.0</td>\n",
              "      <td>Oregon</td>\n",
              "      <td>Willamette Valley</td>\n",
              "      <td>Willamette Valley</td>\n",
              "      <td>Paul Gregutt</td>\n",
              "      <td>@paulgwine</td>\n",
              "      <td>Rainstorm 2013 Pinot Gris (Willamette Valley)</td>\n",
              "      <td>Pinot Gris</td>\n",
              "      <td>Rainstorm</td>\n",
              "    </tr>\n",
              "    <tr>\n",
              "      <th>3</th>\n",
              "      <td>3</td>\n",
              "      <td>US</td>\n",
              "      <td>Pineapple rind, lemon pith and orange blossom ...</td>\n",
              "      <td>Reserve Late Harvest</td>\n",
              "      <td>87</td>\n",
              "      <td>13.0</td>\n",
              "      <td>Michigan</td>\n",
              "      <td>Lake Michigan Shore</td>\n",
              "      <td>NaN</td>\n",
              "      <td>Alexander Peartree</td>\n",
              "      <td>NaN</td>\n",
              "      <td>St. Julian 2013 Reserve Late Harvest Riesling ...</td>\n",
              "      <td>Riesling</td>\n",
              "      <td>St. Julian</td>\n",
              "    </tr>\n",
              "    <tr>\n",
              "      <th>4</th>\n",
              "      <td>4</td>\n",
              "      <td>US</td>\n",
              "      <td>Much like the regular bottling from 2012, this...</td>\n",
              "      <td>Vintner's Reserve Wild Child Block</td>\n",
              "      <td>87</td>\n",
              "      <td>65.0</td>\n",
              "      <td>Oregon</td>\n",
              "      <td>Willamette Valley</td>\n",
              "      <td>Willamette Valley</td>\n",
              "      <td>Paul Gregutt</td>\n",
              "      <td>@paulgwine</td>\n",
              "      <td>Sweet Cheeks 2012 Vintner's Reserve Wild Child...</td>\n",
              "      <td>Pinot Noir</td>\n",
              "      <td>Sweet Cheeks</td>\n",
              "    </tr>\n",
              "  </tbody>\n",
              "</table>\n",
              "</div>"
            ],
            "text/plain": [
              "   Unnamed: 0   country  ...         variety               winery\n",
              "0           0     Italy  ...     White Blend              Nicosia\n",
              "1           1  Portugal  ...  Portuguese Red  Quinta dos Avidagos\n",
              "2           2        US  ...      Pinot Gris            Rainstorm\n",
              "3           3        US  ...        Riesling           St. Julian\n",
              "4           4        US  ...      Pinot Noir         Sweet Cheeks\n",
              "\n",
              "[5 rows x 14 columns]"
            ]
          },
          "metadata": {
            "tags": []
          },
          "execution_count": 53
        }
      ]
    },
    {
      "cell_type": "code",
      "metadata": {
        "id": "tITqOkdw27q9",
        "colab_type": "code",
        "colab": {
          "base_uri": "https://localhost:8080/",
          "height": 204
        },
        "outputId": "144e81bc-bd8e-4dc7-c574-b3e439c59b36"
      },
      "source": [
        "wines_all.head()"
      ],
      "execution_count": 68,
      "outputs": [
        {
          "output_type": "execute_result",
          "data": {
            "text/html": [
              "<div>\n",
              "<style scoped>\n",
              "    .dataframe tbody tr th:only-of-type {\n",
              "        vertical-align: middle;\n",
              "    }\n",
              "\n",
              "    .dataframe tbody tr th {\n",
              "        vertical-align: top;\n",
              "    }\n",
              "\n",
              "    .dataframe thead th {\n",
              "        text-align: right;\n",
              "    }\n",
              "</style>\n",
              "<table border=\"1\" class=\"dataframe\">\n",
              "  <thead>\n",
              "    <tr style=\"text-align: right;\">\n",
              "      <th></th>\n",
              "      <th>id</th>\n",
              "      <th>country</th>\n",
              "      <th>province</th>\n",
              "      <th>region</th>\n",
              "      <th>variety</th>\n",
              "      <th>price</th>\n",
              "    </tr>\n",
              "  </thead>\n",
              "  <tbody>\n",
              "    <tr>\n",
              "      <th>0</th>\n",
              "      <td>1</td>\n",
              "      <td>Argentina</td>\n",
              "      <td>Mendoza Province</td>\n",
              "      <td>Agrelo</td>\n",
              "      <td>Bonarda</td>\n",
              "      <td>17.857143</td>\n",
              "    </tr>\n",
              "    <tr>\n",
              "      <th>1</th>\n",
              "      <td>2</td>\n",
              "      <td>Argentina</td>\n",
              "      <td>Mendoza Province</td>\n",
              "      <td>Agrelo</td>\n",
              "      <td>Bordeaux-style Red Blend</td>\n",
              "      <td>34.500000</td>\n",
              "    </tr>\n",
              "    <tr>\n",
              "      <th>2</th>\n",
              "      <td>3</td>\n",
              "      <td>Argentina</td>\n",
              "      <td>Mendoza Province</td>\n",
              "      <td>Agrelo</td>\n",
              "      <td>Cabernet Franc</td>\n",
              "      <td>40.800000</td>\n",
              "    </tr>\n",
              "    <tr>\n",
              "      <th>3</th>\n",
              "      <td>4</td>\n",
              "      <td>Argentina</td>\n",
              "      <td>Mendoza Province</td>\n",
              "      <td>Agrelo</td>\n",
              "      <td>Cabernet Sauvignon</td>\n",
              "      <td>20.250000</td>\n",
              "    </tr>\n",
              "    <tr>\n",
              "      <th>4</th>\n",
              "      <td>5</td>\n",
              "      <td>Argentina</td>\n",
              "      <td>Mendoza Province</td>\n",
              "      <td>Agrelo</td>\n",
              "      <td>Chardonnay</td>\n",
              "      <td>15.000000</td>\n",
              "    </tr>\n",
              "  </tbody>\n",
              "</table>\n",
              "</div>"
            ],
            "text/plain": [
              "   id    country          province  region                   variety      price\n",
              "0   1  Argentina  Mendoza Province  Agrelo                   Bonarda  17.857143\n",
              "1   2  Argentina  Mendoza Province  Agrelo  Bordeaux-style Red Blend  34.500000\n",
              "2   3  Argentina  Mendoza Province  Agrelo            Cabernet Franc  40.800000\n",
              "3   4  Argentina  Mendoza Province  Agrelo        Cabernet Sauvignon  20.250000\n",
              "4   5  Argentina  Mendoza Province  Agrelo                Chardonnay  15.000000"
            ]
          },
          "metadata": {
            "tags": []
          },
          "execution_count": 68
        }
      ]
    },
    {
      "cell_type": "code",
      "metadata": {
        "id": "YjIiEnG-ouHI",
        "colab_type": "code",
        "colab": {}
      },
      "source": [
        "# data parsing\n",
        "parsed_data = pd.read_csv(\"/content/drive/My Drive/data/winemag-data-130k-v2.csv\")\n",
        "filtered_data = parsed_data[['country','province','region_1','variety','price','taster_name','points']]\n",
        "cleaned_data = filtered_data.rename(columns={'region_1': 'region'}).dropna(subset=['country','province','region','variety','taster_name','points'])\n",
        "\n",
        "# group all wines from a region that have the same variety, assign mean price\n",
        "wines_all = cleaned_data.groupby(['country', 'province', 'region', 'variety']).agg({'price': 'mean'}).reset_index()\n",
        "wines_all = wines_all.assign(id=pd.Series(range(1, wines_all.shape[0]+1), dtype=int, index=wines_all.index))\n",
        "wines_all = wines_all[['id', 'country', 'province', 'region', 'variety', 'price']]\n",
        "\n",
        "users_all = cleaned_data.groupby('taster_name').count().reset_index()[['taster_name']]\n",
        "users_all = users_all.assign(id=pd.Series(range(1, users_all.shape[0]+1), dtype=int, index=users_all.index))\n",
        "\n",
        "# link ratings to wines and users via id\n",
        "wine_id_translator = {(row['country'], row['province'], row['region'], row['variety']): row['id'] for index, row in wines_all.iterrows()}\n",
        "user_id_translator = {row['taster_name']: row['id'] for index, row in users_all.iterrows()}\n",
        "def get_wine_id_series(data_frame):\n",
        "    return pd.Series((wine_id_translator[(row['country'], row['province'], row['region'], row['variety'])] for _, row in data_frame.iterrows()), index=data_frame.index)\n",
        "def get_user_id_series(data_frame):\n",
        "    return pd.Series((user_id_translator[row['taster_name']] for _, row in data_frame.iterrows()), index=data_frame.index)\n",
        "\n",
        "# aggregate average points of all ratings from a user for a wine\n",
        "ratings_all = cleaned_data.assign(wine_id=get_wine_id_series, user_id=get_user_id_series)[['taster_name', 'user_id', 'wine_id', 'points']].groupby(['user_id', 'taster_name', 'wine_id']).mean().reset_index()\n",
        "\n",
        "# only include wines that have 3 or more ratings\n",
        "most_rated_wines = list(ratings_all.groupby(['wine_id']).count()[lambda x: x['points'] >= 3].reset_index()['wine_id'].values)\n",
        "\n",
        "ratings = ratings_all.loc[ratings_all['wine_id'].isin(most_rated_wines)].astype({'wine_id': int, 'user_id': int}).reset_index(drop=True)\n",
        "wines = wines_all.loc[wines_all['id'].isin(most_rated_wines)].astype({'id': int}).reset_index(drop=True)\n",
        "users = users_all.loc[users_all['id'].isin(ratings['user_id'].values)].astype({'id': int}).reset_index(drop=True)"
      ],
      "execution_count": 0,
      "outputs": []
    },
    {
      "cell_type": "markdown",
      "metadata": {
        "id": "jRRHCYTgouHh",
        "colab_type": "text"
      },
      "source": [
        "## Wines"
      ]
    },
    {
      "cell_type": "code",
      "metadata": {
        "id": "lvJT9rQTouHr",
        "colab_type": "code",
        "outputId": "9fdff198-47cd-4aa4-e05f-073b4e355bc2",
        "colab": {
          "base_uri": "https://localhost:8080/",
          "height": 204
        }
      },
      "source": [
        "wines.head()"
      ],
      "execution_count": 56,
      "outputs": [
        {
          "output_type": "execute_result",
          "data": {
            "text/html": [
              "<div>\n",
              "<style scoped>\n",
              "    .dataframe tbody tr th:only-of-type {\n",
              "        vertical-align: middle;\n",
              "    }\n",
              "\n",
              "    .dataframe tbody tr th {\n",
              "        vertical-align: top;\n",
              "    }\n",
              "\n",
              "    .dataframe thead th {\n",
              "        text-align: right;\n",
              "    }\n",
              "</style>\n",
              "<table border=\"1\" class=\"dataframe\">\n",
              "  <thead>\n",
              "    <tr style=\"text-align: right;\">\n",
              "      <th></th>\n",
              "      <th>id</th>\n",
              "      <th>country</th>\n",
              "      <th>province</th>\n",
              "      <th>region</th>\n",
              "      <th>variety</th>\n",
              "      <th>price</th>\n",
              "    </tr>\n",
              "  </thead>\n",
              "  <tbody>\n",
              "    <tr>\n",
              "      <th>0</th>\n",
              "      <td>739</td>\n",
              "      <td>Canada</td>\n",
              "      <td>Ontario</td>\n",
              "      <td>Niagara Peninsula</td>\n",
              "      <td>Riesling</td>\n",
              "      <td>42.423077</td>\n",
              "    </tr>\n",
              "    <tr>\n",
              "      <th>1</th>\n",
              "      <td>741</td>\n",
              "      <td>Canada</td>\n",
              "      <td>Ontario</td>\n",
              "      <td>Niagara Peninsula</td>\n",
              "      <td>Vidal Blanc</td>\n",
              "      <td>62.615385</td>\n",
              "    </tr>\n",
              "    <tr>\n",
              "      <th>2</th>\n",
              "      <td>757</td>\n",
              "      <td>France</td>\n",
              "      <td>Alsace</td>\n",
              "      <td>Alsace</td>\n",
              "      <td>Gewürztraminer</td>\n",
              "      <td>34.206897</td>\n",
              "    </tr>\n",
              "    <tr>\n",
              "      <th>3</th>\n",
              "      <td>760</td>\n",
              "      <td>France</td>\n",
              "      <td>Alsace</td>\n",
              "      <td>Alsace</td>\n",
              "      <td>Pinot Blanc</td>\n",
              "      <td>17.622047</td>\n",
              "    </tr>\n",
              "    <tr>\n",
              "      <th>4</th>\n",
              "      <td>778</td>\n",
              "      <td>France</td>\n",
              "      <td>Alsace</td>\n",
              "      <td>Crémant d'Alsace</td>\n",
              "      <td>Sparkling Blend</td>\n",
              "      <td>24.886256</td>\n",
              "    </tr>\n",
              "  </tbody>\n",
              "</table>\n",
              "</div>"
            ],
            "text/plain": [
              "    id country province             region          variety      price\n",
              "0  739  Canada  Ontario  Niagara Peninsula         Riesling  42.423077\n",
              "1  741  Canada  Ontario  Niagara Peninsula      Vidal Blanc  62.615385\n",
              "2  757  France   Alsace             Alsace   Gewürztraminer  34.206897\n",
              "3  760  France   Alsace             Alsace      Pinot Blanc  17.622047\n",
              "4  778  France   Alsace   Crémant d'Alsace  Sparkling Blend  24.886256"
            ]
          },
          "metadata": {
            "tags": []
          },
          "execution_count": 56
        }
      ]
    },
    {
      "cell_type": "markdown",
      "metadata": {
        "id": "EhdTYuN6ouIB",
        "colab_type": "text"
      },
      "source": [
        "## Ratings"
      ]
    },
    {
      "cell_type": "code",
      "metadata": {
        "id": "nnGqwziSouIG",
        "colab_type": "code",
        "outputId": "5d8ddc3a-9880-4917-db48-6813f29ad841",
        "colab": {
          "base_uri": "https://localhost:8080/",
          "height": 204
        }
      },
      "source": [
        "ratings.head()"
      ],
      "execution_count": 57,
      "outputs": [
        {
          "output_type": "execute_result",
          "data": {
            "text/html": [
              "<div>\n",
              "<style scoped>\n",
              "    .dataframe tbody tr th:only-of-type {\n",
              "        vertical-align: middle;\n",
              "    }\n",
              "\n",
              "    .dataframe tbody tr th {\n",
              "        vertical-align: top;\n",
              "    }\n",
              "\n",
              "    .dataframe thead th {\n",
              "        text-align: right;\n",
              "    }\n",
              "</style>\n",
              "<table border=\"1\" class=\"dataframe\">\n",
              "  <thead>\n",
              "    <tr style=\"text-align: right;\">\n",
              "      <th></th>\n",
              "      <th>user_id</th>\n",
              "      <th>taster_name</th>\n",
              "      <th>wine_id</th>\n",
              "      <th>points</th>\n",
              "    </tr>\n",
              "  </thead>\n",
              "  <tbody>\n",
              "    <tr>\n",
              "      <th>0</th>\n",
              "      <td>1</td>\n",
              "      <td>Alexander Peartree</td>\n",
              "      <td>5069</td>\n",
              "      <td>87.666667</td>\n",
              "    </tr>\n",
              "    <tr>\n",
              "      <th>1</th>\n",
              "      <td>1</td>\n",
              "      <td>Alexander Peartree</td>\n",
              "      <td>5737</td>\n",
              "      <td>89.000000</td>\n",
              "    </tr>\n",
              "    <tr>\n",
              "      <th>2</th>\n",
              "      <td>1</td>\n",
              "      <td>Alexander Peartree</td>\n",
              "      <td>5738</td>\n",
              "      <td>86.750000</td>\n",
              "    </tr>\n",
              "    <tr>\n",
              "      <th>3</th>\n",
              "      <td>1</td>\n",
              "      <td>Alexander Peartree</td>\n",
              "      <td>5741</td>\n",
              "      <td>86.250000</td>\n",
              "    </tr>\n",
              "    <tr>\n",
              "      <th>4</th>\n",
              "      <td>1</td>\n",
              "      <td>Alexander Peartree</td>\n",
              "      <td>5743</td>\n",
              "      <td>88.000000</td>\n",
              "    </tr>\n",
              "  </tbody>\n",
              "</table>\n",
              "</div>"
            ],
            "text/plain": [
              "   user_id         taster_name  wine_id     points\n",
              "0        1  Alexander Peartree     5069  87.666667\n",
              "1        1  Alexander Peartree     5737  89.000000\n",
              "2        1  Alexander Peartree     5738  86.750000\n",
              "3        1  Alexander Peartree     5741  86.250000\n",
              "4        1  Alexander Peartree     5743  88.000000"
            ]
          },
          "metadata": {
            "tags": []
          },
          "execution_count": 57
        }
      ]
    },
    {
      "cell_type": "markdown",
      "metadata": {
        "id": "4uoil6nTouIX",
        "colab_type": "text"
      },
      "source": [
        "## Users"
      ]
    },
    {
      "cell_type": "code",
      "metadata": {
        "id": "fSttbp1-ouIe",
        "colab_type": "code",
        "outputId": "cdca39c5-6d6b-4b50-ef1c-1964be2b8f55",
        "colab": {
          "base_uri": "https://localhost:8080/",
          "height": 204
        }
      },
      "source": [
        "users.head()"
      ],
      "execution_count": 58,
      "outputs": [
        {
          "output_type": "execute_result",
          "data": {
            "text/html": [
              "<div>\n",
              "<style scoped>\n",
              "    .dataframe tbody tr th:only-of-type {\n",
              "        vertical-align: middle;\n",
              "    }\n",
              "\n",
              "    .dataframe tbody tr th {\n",
              "        vertical-align: top;\n",
              "    }\n",
              "\n",
              "    .dataframe thead th {\n",
              "        text-align: right;\n",
              "    }\n",
              "</style>\n",
              "<table border=\"1\" class=\"dataframe\">\n",
              "  <thead>\n",
              "    <tr style=\"text-align: right;\">\n",
              "      <th></th>\n",
              "      <th>taster_name</th>\n",
              "      <th>id</th>\n",
              "    </tr>\n",
              "  </thead>\n",
              "  <tbody>\n",
              "    <tr>\n",
              "      <th>0</th>\n",
              "      <td>Alexander Peartree</td>\n",
              "      <td>1</td>\n",
              "    </tr>\n",
              "    <tr>\n",
              "      <th>1</th>\n",
              "      <td>Anna Lee C. Iijima</td>\n",
              "      <td>2</td>\n",
              "    </tr>\n",
              "    <tr>\n",
              "      <th>2</th>\n",
              "      <td>Anne Krebiehl MW</td>\n",
              "      <td>3</td>\n",
              "    </tr>\n",
              "    <tr>\n",
              "      <th>3</th>\n",
              "      <td>Carrie Dykes</td>\n",
              "      <td>4</td>\n",
              "    </tr>\n",
              "    <tr>\n",
              "      <th>4</th>\n",
              "      <td>Christina Pickard</td>\n",
              "      <td>5</td>\n",
              "    </tr>\n",
              "  </tbody>\n",
              "</table>\n",
              "</div>"
            ],
            "text/plain": [
              "          taster_name  id\n",
              "0  Alexander Peartree   1\n",
              "1  Anna Lee C. Iijima   2\n",
              "2    Anne Krebiehl MW   3\n",
              "3        Carrie Dykes   4\n",
              "4   Christina Pickard   5"
            ]
          },
          "metadata": {
            "tags": []
          },
          "execution_count": 58
        }
      ]
    },
    {
      "cell_type": "markdown",
      "metadata": {
        "id": "G0uJQG2ZouIr",
        "colab_type": "text"
      },
      "source": [
        "## Collaborative Filtering\n",
        "`predict_cf` returns the predicted rating of the user with name `taster_name` for item with id `wine_id`.\n",
        "The function uses a KNN classifier. To train the model, all other ratings are used.\n",
        "The error and the actual rating is returned as well."
      ]
    },
    {
      "cell_type": "code",
      "metadata": {
        "id": "UfEp3X0EouIy",
        "colab_type": "code",
        "colab": {}
      },
      "source": [
        "# Collaborative Filtering\n",
        "\n",
        "def predict_cf(ratings, taster_name, wine_id):\n",
        "    is_target = (ratings['taster_name'] == taster_name) & (ratings['wine_id'] == wine_id)\n",
        "    target = ratings[is_target].iloc[0]\n",
        "    \n",
        "    train_set = sp.Dataset.load_from_df(\n",
        "        ratings[~is_target][['user_id', 'wine_id', 'points']], \n",
        "        sp.Reader(rating_scale=(0, 100))\n",
        "    ).build_full_trainset()\n",
        "\n",
        "    algo = sp.KNNBasic(verbose=False)\n",
        "    algo.fit(train_set)\n",
        "    prediction = algo.predict(target['user_id'], target['wine_id'], verbose=False)\n",
        "    return prediction.est, prediction.est - target['points'], target['points']"
      ],
      "execution_count": 0,
      "outputs": []
    },
    {
      "cell_type": "markdown",
      "metadata": {
        "id": "2HJIdX2AouJJ",
        "colab_type": "text"
      },
      "source": [
        "## Content-Based\n",
        "`predict_cn` returns the predicted rating of the user with name `taster_name` for item with id `wine_id`.\n",
        "The function also uses a KNN classifier. To train the model, all other ratings from the same user, as well as the wine database are used.\n",
        "The error and the actual rating is returned as well."
      ]
    },
    {
      "cell_type": "code",
      "metadata": {
        "id": "LGo78DMwouJR",
        "colab_type": "code",
        "colab": {}
      },
      "source": [
        "# Content-Based\n",
        "\n",
        "from sklearn.preprocessing import LabelEncoder, MinMaxScaler\n",
        "from sklearn.neighbors import KNeighborsClassifier\n",
        "\n",
        "def predict_cn(ratings, wines, taster_name, wine_id):\n",
        "    user_ratings = ratings[ratings['taster_name'] == taster_name].join(wines.set_index('id'), on='wine_id')\n",
        "    is_target = (user_ratings['wine_id'] == wine_id)\n",
        "    \n",
        "    features = pd.get_dummies(user_ratings.drop(columns=['points']))\n",
        "    train_features = features[~is_target]\n",
        "    target_features = features[is_target]\n",
        "    \n",
        "    encoder = LabelEncoder()\n",
        "    train_labels = encoder.fit_transform(user_ratings[~is_target]['points'])\n",
        "    target_label = user_ratings[is_target]['points'].iloc[0]\n",
        "\n",
        "    clf = KNeighborsClassifier(n_neighbors=1)\n",
        "    clf.fit(train_features, train_labels)\n",
        "    prediction = encoder.inverse_transform(clf.predict(target_features))[0]\n",
        "    return prediction, prediction - target_label, target_label"
      ],
      "execution_count": 0,
      "outputs": []
    },
    {
      "cell_type": "markdown",
      "metadata": {
        "id": "Rw7EMLYcouJg",
        "colab_type": "text"
      },
      "source": [
        "## Testing the Recommenders"
      ]
    },
    {
      "cell_type": "code",
      "metadata": {
        "id": "B9JG5pGPouJn",
        "colab_type": "code",
        "colab": {}
      },
      "source": [
        "def test_classifier(taster_name, wine_id):\n",
        "    pred_cf, error_cf, truth = predict_cf(ratings, taster_name, wine_id)\n",
        "    pred_cn, error_cn, truth = predict_cn(ratings, wines, taster_name, wine_id)\n",
        "    print(\"Results for {} on wine with id {}:\".format(taster_name, wine_id))\n",
        "    print(\"Collaborative Filtering: \\t prediction: {:.5f} \\t error: {:.5f}\".format(pred_cf, error_cf))\n",
        "    print(\"Content-Based: \\t\\t\\t prediction: {:.5f} \\t error: {:.5f}\".format(pred_cn, error_cn))"
      ],
      "execution_count": 0,
      "outputs": []
    },
    {
      "cell_type": "code",
      "metadata": {
        "id": "96Q2DfJkouJ8",
        "colab_type": "code",
        "outputId": "e7c9108b-5ae5-4033-dbc5-ef45636335d1",
        "colab": {
          "base_uri": "https://localhost:8080/",
          "height": 68
        }
      },
      "source": [
        "test_classifier(taster_name='Anna Lee C. Iijima', wine_id=741)"
      ],
      "execution_count": 73,
      "outputs": [
        {
          "output_type": "stream",
          "text": [
            "Results for Anna Lee C. Iijima on wine with id 741:\n",
            "Collaborative Filtering: \t prediction: 89.65560 \t error: -0.01107\n",
            "Content-Based: \t\t\t prediction: 89.50000 \t error: -0.16667\n"
          ],
          "name": "stdout"
        }
      ]
    },
    {
      "cell_type": "markdown",
      "metadata": {
        "id": "fIfu_KYzA2QP",
        "colab_type": "text"
      },
      "source": [
        "Hasil dari kolaboratif filtering adalah wine dengan id 741 akan menghasilkan skor 89.65 dengan error -0.011. Ini menunjukkan bahwasanya prediksi menghasilkan nilai yang cukup baik dibandingkan dengan nilai rating wine aslinya. <br>\n",
        "\n",
        "Selanjutnya untuk content-based, hasil prediksinya tidak jauh berbeda dengan kolaboratif filtering. Walaupun, error yang dihasilkan jauh lebih tinggi dibandingkan dengan rekomendasi dari kolaboratif."
      ]
    },
    {
      "cell_type": "markdown",
      "metadata": {
        "id": "z7YrEW5youKX",
        "colab_type": "text"
      },
      "source": [
        "## Weighted Hybrid Recommender\n",
        "Create a weighted hybrid recommender, combining the results of `predict_cf` and `predict_cn`. The weights should be static."
      ]
    },
    {
      "cell_type": "code",
      "metadata": {
        "id": "rlOBMUYjouKb",
        "colab_type": "code",
        "outputId": "2a8accc1-0e3d-4b1a-f3f6-f469fb2edee4",
        "colab": {
          "base_uri": "https://localhost:8080/",
          "height": 34
        }
      },
      "source": [
        "def predict_weighted(ratings, wines, taster_name, wine_id):\n",
        "    prediction_cf, _, truth = predict_cf(ratings, taster_name, wine_id)\n",
        "    prediction_cn, _, truth = predict_cn(ratings, wines, taster_name, wine_id)\n",
        "    \n",
        "    # Weights can be chosen differently, depending on \n",
        "    # the (assumed) quality of the recommenders\n",
        "    prediction = 0.5 * prediction_cf + 0.5 * prediction_cn\n",
        "    error = prediction - truth\n",
        "    return prediction, error, truth\n",
        "\n",
        "\n",
        "pred_weighted, error_weighted, truth = predict_weighted(ratings, wines, taster_name='Anna Lee C. Iijima', wine_id=741)\n",
        "print(\"Weighted Hybrid: \\t prediction: {:.5f} \\t error: {:.5f}\".format(pred_weighted, error_weighted))"
      ],
      "execution_count": 64,
      "outputs": [
        {
          "output_type": "stream",
          "text": [
            "Weighted Hybrid: \t prediction: 89.57780 \t error: -0.08887\n"
          ],
          "name": "stdout"
        }
      ]
    },
    {
      "cell_type": "markdown",
      "metadata": {
        "id": "ob-3DWpLAyiB",
        "colab_type": "text"
      },
      "source": [
        "Secara teori, seharusnya hybrid lebih baik dibandingkan dengan metode content-based dan kolaboratif filtering. Tetapi pada percobaan ini tidak dihasilkan hasil yang seharusnya. Hipotesis saya adalah beban yang diberikan (0.5) tidak seharusnya sama antar metode, ini yang menyebabkan error lebih tinggi dibandingkan dengan kolaboratif-filtering."
      ]
    }
  ]
}